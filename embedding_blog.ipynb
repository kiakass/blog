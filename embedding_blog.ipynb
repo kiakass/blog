{
  "nbformat": 4,
  "nbformat_minor": 0,
  "metadata": {
    "colab": {
      "name": "embedding_blog.ipynb",
      "provenance": [],
      "collapsed_sections": [],
      "authorship_tag": "ABX9TyMvao1a1AU5EdKbC0jsWkZA",
      "include_colab_link": true
    },
    "kernelspec": {
      "name": "python3",
      "display_name": "Python 3"
    },
    "language_info": {
      "name": "python"
    }
  },
  "cells": [
    {
      "cell_type": "markdown",
      "metadata": {
        "id": "view-in-github",
        "colab_type": "text"
      },
      "source": [
        "<a href=\"https://colab.research.google.com/github/kiakass/blog/blob/main/embedding_blog.ipynb\" target=\"_parent\"><img src=\"https://colab.research.google.com/assets/colab-badge.svg\" alt=\"Open In Colab\"/></a>"
      ]
    },
    {
      "cell_type": "markdown",
      "metadata": {
        "id": "bU9GcKsSHJBA"
      },
      "source": [
        "https://www.tensorflow.org/text/guide/word_embeddings <br>\n",
        "https://wikidocs.net/32105<br>\n",
        "\n",
        "https://keras.io/ko/layers/embeddings/"
      ]
    },
    {
      "cell_type": "code",
      "metadata": {
        "id": "N4oqz2zNAccH"
      },
      "source": [
        "import pandas as pd\n",
        "import numpy as np\n",
        "\n",
        "import tensorflow as tf\n",
        "from tensorflow.keras.layers import *\n",
        "from tensorflow.keras.models import Model\n",
        "\n",
        "from sklearn.preprocessing import StandardScaler\n",
        "from sklearn.preprocessing import minmax_scale\n",
        "\n",
        "from sklearn.preprocessing import LabelEncoder\n",
        "from sklearn.preprocessing import OneHotEncoder\n",
        "\n",
        "from scipy.sparse import csr_matrix, coo_matrix"
      ],
      "execution_count": null,
      "outputs": []
    },
    {
      "cell_type": "code",
      "metadata": {
        "id": "iVPsMQ3KK_WU"
      },
      "source": [
        "movies_fn = ('https://raw.githubusercontent.com/kiakass/share/master/movies.csv')   # 9,125 건, \n",
        "ratings_fn = ('https://raw.githubusercontent.com/kiakass/share/master/ratings.csv') # 100,004 건\n",
        "users_fn =('https://raw.githubusercontent.com/kiakass/share/master/user_features.csv')\n",
        "\n",
        "movies=pd.read_csv(movies_fn).fillna(0)\n",
        "ratings=pd.read_csv(ratings_fn).fillna(0)\n",
        "users=pd.read_csv(users_fn).fillna(0)"
      ],
      "execution_count": null,
      "outputs": []
    },
    {
      "cell_type": "code",
      "metadata": {
        "id": "uXOZ1eipvaiq"
      },
      "source": [
        "std = StandardScaler()\n",
        "ratings= minmax_scale(ratings)"
      ],
      "execution_count": null,
      "outputs": []
    },
    {
      "cell_type": "code",
      "metadata": {
        "colab": {
          "base_uri": "https://localhost:8080/"
        },
        "id": "YI1udUL1w0qY",
        "outputId": "dce8f843-5c99-41bf-87d5-d3ba8c2861b4"
      },
      "source": [
        "ratings.shape[0]"
      ],
      "execution_count": null,
      "outputs": [
        {
          "output_type": "execute_result",
          "data": {
            "text/plain": [
              "100004"
            ]
          },
          "metadata": {},
          "execution_count": 32
        }
      ]
    },
    {
      "cell_type": "markdown",
      "metadata": {
        "id": "dZ82zx98gIBg"
      },
      "source": [
        "## Embedding"
      ]
    },
    {
      "cell_type": "markdown",
      "metadata": {
        "id": "gFec2H8ldQwg"
      },
      "source": [
        "- input_dim 이 unique한 item수보다 많아야함"
      ]
    },
    {
      "cell_type": "code",
      "metadata": {
        "colab": {
          "base_uri": "https://localhost:8080/"
        },
        "id": "Tylog4CNxPy0",
        "outputId": "bf151ead-63a9-4b8e-c107-cf5f638faa39"
      },
      "source": [
        "test_embedding = Embedding(input_dim=4, output_dim=2)\n",
        "test_embedding(tf.constant([1,2,3,3]))"
      ],
      "execution_count": null,
      "outputs": [
        {
          "output_type": "execute_result",
          "data": {
            "text/plain": [
              "<tf.Tensor: shape=(4, 2), dtype=float32, numpy=\n",
              "array([[-0.01988821,  0.03895975],\n",
              "       [-0.02904925,  0.03168467],\n",
              "       [ 0.039296  ,  0.00257453],\n",
              "       [ 0.039296  ,  0.00257453]], dtype=float32)>"
            ]
          },
          "metadata": {},
          "execution_count": 134
        }
      ]
    },
    {
      "cell_type": "code",
      "metadata": {
        "colab": {
          "base_uri": "https://localhost:8080/"
        },
        "id": "wFhZKL-E6GEJ",
        "outputId": "6e433e19-b178-485d-e36d-404c76d92ec4"
      },
      "source": [
        "tf.constant([[1,2,3],[4,5,3],[4,5,3]]).shape"
      ],
      "execution_count": null,
      "outputs": [
        {
          "output_type": "execute_result",
          "data": {
            "text/plain": [
              "TensorShape([3, 3])"
            ]
          },
          "metadata": {},
          "execution_count": 143
        }
      ]
    },
    {
      "cell_type": "code",
      "metadata": {
        "colab": {
          "base_uri": "https://localhost:8080/"
        },
        "id": "sNrB5lQf5nl7",
        "outputId": "c2b1c3bd-c91b-4069-a297-0a8ac6272193"
      },
      "source": [
        "test_embedding = Embedding(input_dim=6, output_dim=2)\n",
        "print(test_embedding(tf.constant([[1,2,3],[4,5,3],[4,5,3]]))) #dim : 1,2,3,4,5 + 1"
      ],
      "execution_count": null,
      "outputs": [
        {
          "output_type": "stream",
          "name": "stdout",
          "text": [
            "tf.Tensor(\n",
            "[[[ 0.03200975  0.04296975]\n",
            "  [ 0.03023063 -0.00410701]\n",
            "  [ 0.03850274  0.0393835 ]]\n",
            "\n",
            " [[-0.0034255   0.01435343]\n",
            "  [-0.00296481  0.0394582 ]\n",
            "  [ 0.03850274  0.0393835 ]]\n",
            "\n",
            " [[-0.0034255   0.01435343]\n",
            "  [-0.00296481  0.0394582 ]\n",
            "  [ 0.03850274  0.0393835 ]]], shape=(3, 3, 2), dtype=float32)\n"
          ]
        }
      ]
    },
    {
      "cell_type": "code",
      "metadata": {
        "colab": {
          "base_uri": "https://localhost:8080/",
          "height": 363
        },
        "id": "gNMZ_tLvLCZk",
        "outputId": "07a96a94-ff8d-41ad-e8c8-c1d3947cf870"
      },
      "source": [
        "# data shuffle, sampling 10s \n",
        "np.random.seed(2021)\n",
        "df=ratings.sample(frac=1).iloc[:10,:3].sort_values(by='userId').reset_index(drop=True)\n",
        "df"
      ],
      "execution_count": null,
      "outputs": [
        {
          "output_type": "execute_result",
          "data": {
            "text/html": [
              "<div>\n",
              "<style scoped>\n",
              "    .dataframe tbody tr th:only-of-type {\n",
              "        vertical-align: middle;\n",
              "    }\n",
              "\n",
              "    .dataframe tbody tr th {\n",
              "        vertical-align: top;\n",
              "    }\n",
              "\n",
              "    .dataframe thead th {\n",
              "        text-align: right;\n",
              "    }\n",
              "</style>\n",
              "<table border=\"1\" class=\"dataframe\">\n",
              "  <thead>\n",
              "    <tr style=\"text-align: right;\">\n",
              "      <th></th>\n",
              "      <th>userId</th>\n",
              "      <th>movieId</th>\n",
              "      <th>rating</th>\n",
              "    </tr>\n",
              "  </thead>\n",
              "  <tbody>\n",
              "    <tr>\n",
              "      <th>0</th>\n",
              "      <td>19</td>\n",
              "      <td>361</td>\n",
              "      <td>4.0</td>\n",
              "    </tr>\n",
              "    <tr>\n",
              "      <th>1</th>\n",
              "      <td>150</td>\n",
              "      <td>1668</td>\n",
              "      <td>2.5</td>\n",
              "    </tr>\n",
              "    <tr>\n",
              "      <th>2</th>\n",
              "      <td>195</td>\n",
              "      <td>2015</td>\n",
              "      <td>4.0</td>\n",
              "    </tr>\n",
              "    <tr>\n",
              "      <th>3</th>\n",
              "      <td>200</td>\n",
              "      <td>36529</td>\n",
              "      <td>5.0</td>\n",
              "    </tr>\n",
              "    <tr>\n",
              "      <th>4</th>\n",
              "      <td>232</td>\n",
              "      <td>1073</td>\n",
              "      <td>3.0</td>\n",
              "    </tr>\n",
              "    <tr>\n",
              "      <th>5</th>\n",
              "      <td>547</td>\n",
              "      <td>7946</td>\n",
              "      <td>1.5</td>\n",
              "    </tr>\n",
              "    <tr>\n",
              "      <th>6</th>\n",
              "      <td>569</td>\n",
              "      <td>377</td>\n",
              "      <td>4.0</td>\n",
              "    </tr>\n",
              "    <tr>\n",
              "      <th>7</th>\n",
              "      <td>581</td>\n",
              "      <td>31374</td>\n",
              "      <td>0.5</td>\n",
              "    </tr>\n",
              "    <tr>\n",
              "      <th>8</th>\n",
              "      <td>595</td>\n",
              "      <td>2059</td>\n",
              "      <td>3.0</td>\n",
              "    </tr>\n",
              "    <tr>\n",
              "      <th>9</th>\n",
              "      <td>624</td>\n",
              "      <td>142448</td>\n",
              "      <td>3.0</td>\n",
              "    </tr>\n",
              "  </tbody>\n",
              "</table>\n",
              "</div>"
            ],
            "text/plain": [
              "   userId  movieId  rating\n",
              "0      19      361     4.0\n",
              "1     150     1668     2.5\n",
              "2     195     2015     4.0\n",
              "3     200    36529     5.0\n",
              "4     232     1073     3.0\n",
              "5     547     7946     1.5\n",
              "6     569      377     4.0\n",
              "7     581    31374     0.5\n",
              "8     595     2059     3.0\n",
              "9     624   142448     3.0"
            ]
          },
          "metadata": {},
          "execution_count": 115
        }
      ]
    },
    {
      "cell_type": "code",
      "metadata": {
        "id": "UrZ6KSNWLEOW",
        "colab": {
          "base_uri": "https://localhost:8080/",
          "height": 415
        },
        "outputId": "8a7e088f-e91b-4425-c156-634224486b1f"
      },
      "source": [
        "data_embedding = Embedding(df.shape[0], 2)\n",
        "data_embedding(np.array(df))"
      ],
      "execution_count": null,
      "outputs": [
        {
          "output_type": "error",
          "ename": "InvalidArgumentError",
          "evalue": "ignored",
          "traceback": [
            "\u001b[0;31m---------------------------------------------------------------------------\u001b[0m",
            "\u001b[0;31mInvalidArgumentError\u001b[0m                      Traceback (most recent call last)",
            "\u001b[0;32m<ipython-input-105-585aae284a1d>\u001b[0m in \u001b[0;36m<module>\u001b[0;34m()\u001b[0m\n\u001b[1;32m      1\u001b[0m \u001b[0mdata_embedding\u001b[0m \u001b[0;34m=\u001b[0m \u001b[0mEmbedding\u001b[0m\u001b[0;34m(\u001b[0m\u001b[0mdf\u001b[0m\u001b[0;34m.\u001b[0m\u001b[0mshape\u001b[0m\u001b[0;34m[\u001b[0m\u001b[0;36m0\u001b[0m\u001b[0;34m]\u001b[0m\u001b[0;34m,\u001b[0m \u001b[0;36m2\u001b[0m\u001b[0;34m)\u001b[0m\u001b[0;34m\u001b[0m\u001b[0;34m\u001b[0m\u001b[0m\n\u001b[0;32m----> 2\u001b[0;31m \u001b[0mdata_embedding\u001b[0m\u001b[0;34m(\u001b[0m\u001b[0mnp\u001b[0m\u001b[0;34m.\u001b[0m\u001b[0marray\u001b[0m\u001b[0;34m(\u001b[0m\u001b[0mdf\u001b[0m\u001b[0;34m)\u001b[0m\u001b[0;34m)\u001b[0m\u001b[0;34m\u001b[0m\u001b[0;34m\u001b[0m\u001b[0m\n\u001b[0m",
            "\u001b[0;32m/usr/local/lib/python3.7/dist-packages/keras/utils/traceback_utils.py\u001b[0m in \u001b[0;36merror_handler\u001b[0;34m(*args, **kwargs)\u001b[0m\n\u001b[1;32m     65\u001b[0m     \u001b[0;32mexcept\u001b[0m \u001b[0mException\u001b[0m \u001b[0;32mas\u001b[0m \u001b[0me\u001b[0m\u001b[0;34m:\u001b[0m  \u001b[0;31m# pylint: disable=broad-except\u001b[0m\u001b[0;34m\u001b[0m\u001b[0;34m\u001b[0m\u001b[0m\n\u001b[1;32m     66\u001b[0m       \u001b[0mfiltered_tb\u001b[0m \u001b[0;34m=\u001b[0m \u001b[0m_process_traceback_frames\u001b[0m\u001b[0;34m(\u001b[0m\u001b[0me\u001b[0m\u001b[0;34m.\u001b[0m\u001b[0m__traceback__\u001b[0m\u001b[0;34m)\u001b[0m\u001b[0;34m\u001b[0m\u001b[0;34m\u001b[0m\u001b[0m\n\u001b[0;32m---> 67\u001b[0;31m       \u001b[0;32mraise\u001b[0m \u001b[0me\u001b[0m\u001b[0;34m.\u001b[0m\u001b[0mwith_traceback\u001b[0m\u001b[0;34m(\u001b[0m\u001b[0mfiltered_tb\u001b[0m\u001b[0;34m)\u001b[0m \u001b[0;32mfrom\u001b[0m \u001b[0;32mNone\u001b[0m\u001b[0;34m\u001b[0m\u001b[0;34m\u001b[0m\u001b[0m\n\u001b[0m\u001b[1;32m     68\u001b[0m     \u001b[0;32mfinally\u001b[0m\u001b[0;34m:\u001b[0m\u001b[0;34m\u001b[0m\u001b[0;34m\u001b[0m\u001b[0m\n\u001b[1;32m     69\u001b[0m       \u001b[0;32mdel\u001b[0m \u001b[0mfiltered_tb\u001b[0m\u001b[0;34m\u001b[0m\u001b[0;34m\u001b[0m\u001b[0m\n",
            "\u001b[0;32m/usr/local/lib/python3.7/dist-packages/tensorflow/python/framework/ops.py\u001b[0m in \u001b[0;36mraise_from_not_ok_status\u001b[0;34m(e, name)\u001b[0m\n\u001b[1;32m   7105\u001b[0m \u001b[0;32mdef\u001b[0m \u001b[0mraise_from_not_ok_status\u001b[0m\u001b[0;34m(\u001b[0m\u001b[0me\u001b[0m\u001b[0;34m,\u001b[0m \u001b[0mname\u001b[0m\u001b[0;34m)\u001b[0m\u001b[0;34m:\u001b[0m\u001b[0;34m\u001b[0m\u001b[0;34m\u001b[0m\u001b[0m\n\u001b[1;32m   7106\u001b[0m   \u001b[0me\u001b[0m\u001b[0;34m.\u001b[0m\u001b[0mmessage\u001b[0m \u001b[0;34m+=\u001b[0m \u001b[0;34m(\u001b[0m\u001b[0;34m\" name: \"\u001b[0m \u001b[0;34m+\u001b[0m \u001b[0mname\u001b[0m \u001b[0;32mif\u001b[0m \u001b[0mname\u001b[0m \u001b[0;32mis\u001b[0m \u001b[0;32mnot\u001b[0m \u001b[0;32mNone\u001b[0m \u001b[0;32melse\u001b[0m \u001b[0;34m\"\"\u001b[0m\u001b[0;34m)\u001b[0m\u001b[0;34m\u001b[0m\u001b[0;34m\u001b[0m\u001b[0m\n\u001b[0;32m-> 7107\u001b[0;31m   \u001b[0;32mraise\u001b[0m \u001b[0mcore\u001b[0m\u001b[0;34m.\u001b[0m\u001b[0m_status_to_exception\u001b[0m\u001b[0;34m(\u001b[0m\u001b[0me\u001b[0m\u001b[0;34m)\u001b[0m \u001b[0;32mfrom\u001b[0m \u001b[0;32mNone\u001b[0m  \u001b[0;31m# pylint: disable=protected-access\u001b[0m\u001b[0;34m\u001b[0m\u001b[0;34m\u001b[0m\u001b[0m\n\u001b[0m\u001b[1;32m   7108\u001b[0m \u001b[0;34m\u001b[0m\u001b[0m\n\u001b[1;32m   7109\u001b[0m \u001b[0;34m\u001b[0m\u001b[0m\n",
            "\u001b[0;31mInvalidArgumentError\u001b[0m: Exception encountered when calling layer \"embedding_16\" (type Embedding).\n\nindices[0,0] = 73 is not in [0, 10) [Op:ResourceGather]\n\nCall arguments received:\n  • inputs=tf.Tensor(shape=(10, 3), dtype=float64)"
          ]
        }
      ]
    },
    {
      "cell_type": "code",
      "metadata": {
        "colab": {
          "base_uri": "https://localhost:8080/"
        },
        "id": "84cj6TDfeuBB",
        "outputId": "c2216a3c-2b54-4c2f-ed5e-1ccef0cc1823"
      },
      "source": [
        "from sklearn.preprocessing import LabelEncoder\n",
        "\n",
        "le = LabelEncoder()\n",
        "df['userId_l'] = le.fit_transform(df['userId'])\n",
        "df['movieId_l'] = le.fit_transform(df['movieId'])\n",
        "df['rating_l'] = le.fit_transform(df['rating'])\n",
        "np.c_[le.inverse_transform(le.fit_transform(df['userId'])),df['userId_l']]"
      ],
      "execution_count": null,
      "outputs": [
        {
          "output_type": "execute_result",
          "data": {
            "text/plain": [
              "array([[ 19,   0],\n",
              "       [150,   1],\n",
              "       [195,   2],\n",
              "       [200,   3],\n",
              "       [232,   4],\n",
              "       [547,   5],\n",
              "       [569,   6],\n",
              "       [581,   7],\n",
              "       [595,   8],\n",
              "       [624,   9]])"
            ]
          },
          "metadata": {},
          "execution_count": 235
        }
      ]
    },
    {
      "cell_type": "code",
      "metadata": {
        "colab": {
          "base_uri": "https://localhost:8080/",
          "height": 363
        },
        "id": "t_CBQfRQfcLL",
        "outputId": "fb24524e-7087-47f2-c62a-4c9b9ba52ea0"
      },
      "source": [
        "df"
      ],
      "execution_count": null,
      "outputs": [
        {
          "output_type": "execute_result",
          "data": {
            "text/html": [
              "<div>\n",
              "<style scoped>\n",
              "    .dataframe tbody tr th:only-of-type {\n",
              "        vertical-align: middle;\n",
              "    }\n",
              "\n",
              "    .dataframe tbody tr th {\n",
              "        vertical-align: top;\n",
              "    }\n",
              "\n",
              "    .dataframe thead th {\n",
              "        text-align: right;\n",
              "    }\n",
              "</style>\n",
              "<table border=\"1\" class=\"dataframe\">\n",
              "  <thead>\n",
              "    <tr style=\"text-align: right;\">\n",
              "      <th></th>\n",
              "      <th>userId</th>\n",
              "      <th>movieId</th>\n",
              "      <th>rating</th>\n",
              "      <th>userId_l</th>\n",
              "      <th>movieId_l</th>\n",
              "      <th>rating_l</th>\n",
              "    </tr>\n",
              "  </thead>\n",
              "  <tbody>\n",
              "    <tr>\n",
              "      <th>0</th>\n",
              "      <td>19</td>\n",
              "      <td>361</td>\n",
              "      <td>4.0</td>\n",
              "      <td>0</td>\n",
              "      <td>0</td>\n",
              "      <td>4</td>\n",
              "    </tr>\n",
              "    <tr>\n",
              "      <th>1</th>\n",
              "      <td>150</td>\n",
              "      <td>1668</td>\n",
              "      <td>2.5</td>\n",
              "      <td>1</td>\n",
              "      <td>3</td>\n",
              "      <td>2</td>\n",
              "    </tr>\n",
              "    <tr>\n",
              "      <th>2</th>\n",
              "      <td>195</td>\n",
              "      <td>2015</td>\n",
              "      <td>4.0</td>\n",
              "      <td>2</td>\n",
              "      <td>4</td>\n",
              "      <td>4</td>\n",
              "    </tr>\n",
              "    <tr>\n",
              "      <th>3</th>\n",
              "      <td>200</td>\n",
              "      <td>36529</td>\n",
              "      <td>5.0</td>\n",
              "      <td>3</td>\n",
              "      <td>8</td>\n",
              "      <td>5</td>\n",
              "    </tr>\n",
              "    <tr>\n",
              "      <th>4</th>\n",
              "      <td>232</td>\n",
              "      <td>1073</td>\n",
              "      <td>3.0</td>\n",
              "      <td>4</td>\n",
              "      <td>2</td>\n",
              "      <td>3</td>\n",
              "    </tr>\n",
              "    <tr>\n",
              "      <th>5</th>\n",
              "      <td>547</td>\n",
              "      <td>7946</td>\n",
              "      <td>1.5</td>\n",
              "      <td>5</td>\n",
              "      <td>6</td>\n",
              "      <td>1</td>\n",
              "    </tr>\n",
              "    <tr>\n",
              "      <th>6</th>\n",
              "      <td>569</td>\n",
              "      <td>377</td>\n",
              "      <td>4.0</td>\n",
              "      <td>6</td>\n",
              "      <td>1</td>\n",
              "      <td>4</td>\n",
              "    </tr>\n",
              "    <tr>\n",
              "      <th>7</th>\n",
              "      <td>581</td>\n",
              "      <td>31374</td>\n",
              "      <td>0.5</td>\n",
              "      <td>7</td>\n",
              "      <td>7</td>\n",
              "      <td>0</td>\n",
              "    </tr>\n",
              "    <tr>\n",
              "      <th>8</th>\n",
              "      <td>595</td>\n",
              "      <td>2059</td>\n",
              "      <td>3.0</td>\n",
              "      <td>8</td>\n",
              "      <td>5</td>\n",
              "      <td>3</td>\n",
              "    </tr>\n",
              "    <tr>\n",
              "      <th>9</th>\n",
              "      <td>624</td>\n",
              "      <td>142448</td>\n",
              "      <td>3.0</td>\n",
              "      <td>9</td>\n",
              "      <td>9</td>\n",
              "      <td>3</td>\n",
              "    </tr>\n",
              "  </tbody>\n",
              "</table>\n",
              "</div>"
            ],
            "text/plain": [
              "   userId  movieId  rating  userId_l  movieId_l  rating_l\n",
              "0      19      361     4.0         0          0         4\n",
              "1     150     1668     2.5         1          3         2\n",
              "2     195     2015     4.0         2          4         4\n",
              "3     200    36529     5.0         3          8         5\n",
              "4     232     1073     3.0         4          2         3\n",
              "5     547     7946     1.5         5          6         1\n",
              "6     569      377     4.0         6          1         4\n",
              "7     581    31374     0.5         7          7         0\n",
              "8     595     2059     3.0         8          5         3\n",
              "9     624   142448     3.0         9          9         3"
            ]
          },
          "metadata": {},
          "execution_count": 240
        }
      ]
    },
    {
      "cell_type": "code",
      "metadata": {
        "colab": {
          "base_uri": "https://localhost:8080/"
        },
        "id": "eWdFaDtifL3X",
        "outputId": "bb9b16ad-1095-499a-8e77-4d71826f3088"
      },
      "source": [
        "data_embedding = Embedding(df.shape[0], 3)\n",
        "print(data_embedding(np.array(df.iloc[:,3:])))"
      ],
      "execution_count": null,
      "outputs": [
        {
          "output_type": "stream",
          "name": "stdout",
          "text": [
            "tf.Tensor(\n",
            "[[[-0.00356021 -0.03878094 -0.01316022]\n",
            "  [-0.00356021 -0.03878094 -0.01316022]\n",
            "  [ 0.00570418  0.0359746  -0.01192591]]\n",
            "\n",
            " [[-0.01637206 -0.00218325  0.04531309]\n",
            "  [-0.0449886   0.02501824 -0.0188338 ]\n",
            "  [-0.04195038 -0.00319714 -0.00181288]]\n",
            "\n",
            " [[-0.04195038 -0.00319714 -0.00181288]\n",
            "  [ 0.00570418  0.0359746  -0.01192591]\n",
            "  [ 0.00570418  0.0359746  -0.01192591]]\n",
            "\n",
            " [[-0.0449886   0.02501824 -0.0188338 ]\n",
            "  [-0.03974012 -0.0132104   0.02488993]\n",
            "  [-0.00099941 -0.01170168 -0.04620849]]\n",
            "\n",
            " [[ 0.00570418  0.0359746  -0.01192591]\n",
            "  [-0.04195038 -0.00319714 -0.00181288]\n",
            "  [-0.0449886   0.02501824 -0.0188338 ]]\n",
            "\n",
            " [[-0.00099941 -0.01170168 -0.04620849]\n",
            "  [ 0.03029737  0.03570536 -0.04685453]\n",
            "  [-0.01637206 -0.00218325  0.04531309]]\n",
            "\n",
            " [[ 0.03029737  0.03570536 -0.04685453]\n",
            "  [-0.01637206 -0.00218325  0.04531309]\n",
            "  [ 0.00570418  0.0359746  -0.01192591]]\n",
            "\n",
            " [[ 0.02791201  0.01760424 -0.02436641]\n",
            "  [ 0.02791201  0.01760424 -0.02436641]\n",
            "  [-0.00356021 -0.03878094 -0.01316022]]\n",
            "\n",
            " [[-0.03974012 -0.0132104   0.02488993]\n",
            "  [-0.00099941 -0.01170168 -0.04620849]\n",
            "  [-0.0449886   0.02501824 -0.0188338 ]]\n",
            "\n",
            " [[-0.02311558  0.02527029 -0.01067538]\n",
            "  [-0.02311558  0.02527029 -0.01067538]\n",
            "  [-0.0449886   0.02501824 -0.0188338 ]]], shape=(10, 3, 3), dtype=float32)\n"
          ]
        }
      ]
    },
    {
      "cell_type": "markdown",
      "metadata": {
        "id": "QC-qLEyLgCIx"
      },
      "source": [
        "## COO matrix"
      ]
    },
    {
      "cell_type": "code",
      "metadata": {
        "id": "nCPXR84JnskG"
      },
      "source": [
        "import pandas as pd\n",
        "import numpy as np\n",
        "from scipy.sparse import csr_matrix, coo_matrix\n",
        "\n",
        "np.random.seed(2021)\n",
        "\n",
        "ratings_fn = ('https://raw.githubusercontent.com/kiakass/share/master/ratings.csv') # 100,004 건\n",
        "ratings=pd.read_csv(ratings_fn).fillna(0)"
      ],
      "execution_count": null,
      "outputs": []
    },
    {
      "cell_type": "code",
      "metadata": {
        "colab": {
          "base_uri": "https://localhost:8080/",
          "height": 363
        },
        "id": "I4Jdlz3Rnb2w",
        "outputId": "4744e2ce-436b-4dbd-c62b-4fc11b542250"
      },
      "source": [
        "# data shuffle, sampling 10s \n",
        "df=ratings.sample(frac=1).iloc[:10,:3].sort_values(by='userId').reset_index(drop=True)\n",
        "df"
      ],
      "execution_count": null,
      "outputs": [
        {
          "output_type": "execute_result",
          "data": {
            "text/html": [
              "<div>\n",
              "<style scoped>\n",
              "    .dataframe tbody tr th:only-of-type {\n",
              "        vertical-align: middle;\n",
              "    }\n",
              "\n",
              "    .dataframe tbody tr th {\n",
              "        vertical-align: top;\n",
              "    }\n",
              "\n",
              "    .dataframe thead th {\n",
              "        text-align: right;\n",
              "    }\n",
              "</style>\n",
              "<table border=\"1\" class=\"dataframe\">\n",
              "  <thead>\n",
              "    <tr style=\"text-align: right;\">\n",
              "      <th></th>\n",
              "      <th>userId</th>\n",
              "      <th>movieId</th>\n",
              "      <th>rating</th>\n",
              "    </tr>\n",
              "  </thead>\n",
              "  <tbody>\n",
              "    <tr>\n",
              "      <th>0</th>\n",
              "      <td>19</td>\n",
              "      <td>361</td>\n",
              "      <td>4.0</td>\n",
              "    </tr>\n",
              "    <tr>\n",
              "      <th>1</th>\n",
              "      <td>150</td>\n",
              "      <td>1668</td>\n",
              "      <td>2.5</td>\n",
              "    </tr>\n",
              "    <tr>\n",
              "      <th>2</th>\n",
              "      <td>195</td>\n",
              "      <td>2015</td>\n",
              "      <td>4.0</td>\n",
              "    </tr>\n",
              "    <tr>\n",
              "      <th>3</th>\n",
              "      <td>200</td>\n",
              "      <td>36529</td>\n",
              "      <td>5.0</td>\n",
              "    </tr>\n",
              "    <tr>\n",
              "      <th>4</th>\n",
              "      <td>232</td>\n",
              "      <td>1073</td>\n",
              "      <td>3.0</td>\n",
              "    </tr>\n",
              "    <tr>\n",
              "      <th>5</th>\n",
              "      <td>547</td>\n",
              "      <td>7946</td>\n",
              "      <td>1.5</td>\n",
              "    </tr>\n",
              "    <tr>\n",
              "      <th>6</th>\n",
              "      <td>569</td>\n",
              "      <td>377</td>\n",
              "      <td>4.0</td>\n",
              "    </tr>\n",
              "    <tr>\n",
              "      <th>7</th>\n",
              "      <td>581</td>\n",
              "      <td>31374</td>\n",
              "      <td>0.5</td>\n",
              "    </tr>\n",
              "    <tr>\n",
              "      <th>8</th>\n",
              "      <td>595</td>\n",
              "      <td>2059</td>\n",
              "      <td>3.0</td>\n",
              "    </tr>\n",
              "    <tr>\n",
              "      <th>9</th>\n",
              "      <td>624</td>\n",
              "      <td>142448</td>\n",
              "      <td>3.0</td>\n",
              "    </tr>\n",
              "  </tbody>\n",
              "</table>\n",
              "</div>"
            ],
            "text/plain": [
              "   userId  movieId  rating\n",
              "0      19      361     4.0\n",
              "1     150     1668     2.5\n",
              "2     195     2015     4.0\n",
              "3     200    36529     5.0\n",
              "4     232     1073     3.0\n",
              "5     547     7946     1.5\n",
              "6     569      377     4.0\n",
              "7     581    31374     0.5\n",
              "8     595     2059     3.0\n",
              "9     624   142448     3.0"
            ]
          },
          "metadata": {},
          "execution_count": 121
        }
      ]
    },
    {
      "cell_type": "code",
      "metadata": {
        "colab": {
          "base_uri": "https://localhost:8080/",
          "height": 394
        },
        "id": "IoATnX99R2Yc",
        "outputId": "2c08396f-f044-41e1-a609-4a895c4f2e09"
      },
      "source": [
        "df_matrix = df.pivot( index='userId',\n",
        "                      columns='movieId',\n",
        "                      values='rating').fillna(0)\n",
        "df_matrix                      "
      ],
      "execution_count": null,
      "outputs": [
        {
          "output_type": "execute_result",
          "data": {
            "text/html": [
              "<div>\n",
              "<style scoped>\n",
              "    .dataframe tbody tr th:only-of-type {\n",
              "        vertical-align: middle;\n",
              "    }\n",
              "\n",
              "    .dataframe tbody tr th {\n",
              "        vertical-align: top;\n",
              "    }\n",
              "\n",
              "    .dataframe thead th {\n",
              "        text-align: right;\n",
              "    }\n",
              "</style>\n",
              "<table border=\"1\" class=\"dataframe\">\n",
              "  <thead>\n",
              "    <tr style=\"text-align: right;\">\n",
              "      <th>movieId</th>\n",
              "      <th>361</th>\n",
              "      <th>377</th>\n",
              "      <th>1073</th>\n",
              "      <th>1668</th>\n",
              "      <th>2015</th>\n",
              "      <th>2059</th>\n",
              "      <th>7946</th>\n",
              "      <th>31374</th>\n",
              "      <th>36529</th>\n",
              "      <th>142448</th>\n",
              "    </tr>\n",
              "    <tr>\n",
              "      <th>userId</th>\n",
              "      <th></th>\n",
              "      <th></th>\n",
              "      <th></th>\n",
              "      <th></th>\n",
              "      <th></th>\n",
              "      <th></th>\n",
              "      <th></th>\n",
              "      <th></th>\n",
              "      <th></th>\n",
              "      <th></th>\n",
              "    </tr>\n",
              "  </thead>\n",
              "  <tbody>\n",
              "    <tr>\n",
              "      <th>19</th>\n",
              "      <td>4.0</td>\n",
              "      <td>0.0</td>\n",
              "      <td>0.0</td>\n",
              "      <td>0.0</td>\n",
              "      <td>0.0</td>\n",
              "      <td>0.0</td>\n",
              "      <td>0.0</td>\n",
              "      <td>0.0</td>\n",
              "      <td>0.0</td>\n",
              "      <td>0.0</td>\n",
              "    </tr>\n",
              "    <tr>\n",
              "      <th>150</th>\n",
              "      <td>0.0</td>\n",
              "      <td>0.0</td>\n",
              "      <td>0.0</td>\n",
              "      <td>2.5</td>\n",
              "      <td>0.0</td>\n",
              "      <td>0.0</td>\n",
              "      <td>0.0</td>\n",
              "      <td>0.0</td>\n",
              "      <td>0.0</td>\n",
              "      <td>0.0</td>\n",
              "    </tr>\n",
              "    <tr>\n",
              "      <th>195</th>\n",
              "      <td>0.0</td>\n",
              "      <td>0.0</td>\n",
              "      <td>0.0</td>\n",
              "      <td>0.0</td>\n",
              "      <td>4.0</td>\n",
              "      <td>0.0</td>\n",
              "      <td>0.0</td>\n",
              "      <td>0.0</td>\n",
              "      <td>0.0</td>\n",
              "      <td>0.0</td>\n",
              "    </tr>\n",
              "    <tr>\n",
              "      <th>200</th>\n",
              "      <td>0.0</td>\n",
              "      <td>0.0</td>\n",
              "      <td>0.0</td>\n",
              "      <td>0.0</td>\n",
              "      <td>0.0</td>\n",
              "      <td>0.0</td>\n",
              "      <td>0.0</td>\n",
              "      <td>0.0</td>\n",
              "      <td>5.0</td>\n",
              "      <td>0.0</td>\n",
              "    </tr>\n",
              "    <tr>\n",
              "      <th>232</th>\n",
              "      <td>0.0</td>\n",
              "      <td>0.0</td>\n",
              "      <td>3.0</td>\n",
              "      <td>0.0</td>\n",
              "      <td>0.0</td>\n",
              "      <td>0.0</td>\n",
              "      <td>0.0</td>\n",
              "      <td>0.0</td>\n",
              "      <td>0.0</td>\n",
              "      <td>0.0</td>\n",
              "    </tr>\n",
              "    <tr>\n",
              "      <th>547</th>\n",
              "      <td>0.0</td>\n",
              "      <td>0.0</td>\n",
              "      <td>0.0</td>\n",
              "      <td>0.0</td>\n",
              "      <td>0.0</td>\n",
              "      <td>0.0</td>\n",
              "      <td>1.5</td>\n",
              "      <td>0.0</td>\n",
              "      <td>0.0</td>\n",
              "      <td>0.0</td>\n",
              "    </tr>\n",
              "    <tr>\n",
              "      <th>569</th>\n",
              "      <td>0.0</td>\n",
              "      <td>4.0</td>\n",
              "      <td>0.0</td>\n",
              "      <td>0.0</td>\n",
              "      <td>0.0</td>\n",
              "      <td>0.0</td>\n",
              "      <td>0.0</td>\n",
              "      <td>0.0</td>\n",
              "      <td>0.0</td>\n",
              "      <td>0.0</td>\n",
              "    </tr>\n",
              "    <tr>\n",
              "      <th>581</th>\n",
              "      <td>0.0</td>\n",
              "      <td>0.0</td>\n",
              "      <td>0.0</td>\n",
              "      <td>0.0</td>\n",
              "      <td>0.0</td>\n",
              "      <td>0.0</td>\n",
              "      <td>0.0</td>\n",
              "      <td>0.5</td>\n",
              "      <td>0.0</td>\n",
              "      <td>0.0</td>\n",
              "    </tr>\n",
              "    <tr>\n",
              "      <th>595</th>\n",
              "      <td>0.0</td>\n",
              "      <td>0.0</td>\n",
              "      <td>0.0</td>\n",
              "      <td>0.0</td>\n",
              "      <td>0.0</td>\n",
              "      <td>3.0</td>\n",
              "      <td>0.0</td>\n",
              "      <td>0.0</td>\n",
              "      <td>0.0</td>\n",
              "      <td>0.0</td>\n",
              "    </tr>\n",
              "    <tr>\n",
              "      <th>624</th>\n",
              "      <td>0.0</td>\n",
              "      <td>0.0</td>\n",
              "      <td>0.0</td>\n",
              "      <td>0.0</td>\n",
              "      <td>0.0</td>\n",
              "      <td>0.0</td>\n",
              "      <td>0.0</td>\n",
              "      <td>0.0</td>\n",
              "      <td>0.0</td>\n",
              "      <td>3.0</td>\n",
              "    </tr>\n",
              "  </tbody>\n",
              "</table>\n",
              "</div>"
            ],
            "text/plain": [
              "movieId  361     377     1073    1668    ...  7946    31374   36529   142448\n",
              "userId                                   ...                                \n",
              "19          4.0     0.0     0.0     0.0  ...     0.0     0.0     0.0     0.0\n",
              "150         0.0     0.0     0.0     2.5  ...     0.0     0.0     0.0     0.0\n",
              "195         0.0     0.0     0.0     0.0  ...     0.0     0.0     0.0     0.0\n",
              "200         0.0     0.0     0.0     0.0  ...     0.0     0.0     5.0     0.0\n",
              "232         0.0     0.0     3.0     0.0  ...     0.0     0.0     0.0     0.0\n",
              "547         0.0     0.0     0.0     0.0  ...     1.5     0.0     0.0     0.0\n",
              "569         0.0     4.0     0.0     0.0  ...     0.0     0.0     0.0     0.0\n",
              "581         0.0     0.0     0.0     0.0  ...     0.0     0.5     0.0     0.0\n",
              "595         0.0     0.0     0.0     0.0  ...     0.0     0.0     0.0     0.0\n",
              "624         0.0     0.0     0.0     0.0  ...     0.0     0.0     0.0     3.0\n",
              "\n",
              "[10 rows x 10 columns]"
            ]
          },
          "metadata": {},
          "execution_count": 122
        }
      ]
    },
    {
      "cell_type": "code",
      "metadata": {
        "colab": {
          "base_uri": "https://localhost:8080/"
        },
        "id": "EnHhdazpR-_-",
        "outputId": "03ed2e08-d1b6-46f9-a461-8fb5768c50c4"
      },
      "source": [
        "data = np.array(df['rating'])\n",
        "row_idx = np.array(df['userId'])\n",
        "col_idx = np.array(df['movieId'])\n",
        "\n",
        "csr_rating_matrix = csr_matrix((data,(row_idx, col_idx)))\n",
        "coo_rating_matrix = coo_matrix((data, (row_idx,col_idx)))\n",
        "#\n",
        "print(csr_rating_matrix,coo_rating_matrix, sep='\\n\\n')\n"
      ],
      "execution_count": null,
      "outputs": [
        {
          "output_type": "stream",
          "name": "stdout",
          "text": [
            "  (19, 361)\t4.0\n",
            "  (150, 1668)\t2.5\n",
            "  (195, 2015)\t4.0\n",
            "  (200, 36529)\t5.0\n",
            "  (232, 1073)\t3.0\n",
            "  (547, 7946)\t1.5\n",
            "  (569, 377)\t4.0\n",
            "  (581, 31374)\t0.5\n",
            "  (595, 2059)\t3.0\n",
            "  (624, 142448)\t3.0\n",
            "\n",
            "  (19, 361)\t4.0\n",
            "  (150, 1668)\t2.5\n",
            "  (195, 2015)\t4.0\n",
            "  (200, 36529)\t5.0\n",
            "  (232, 1073)\t3.0\n",
            "  (547, 7946)\t1.5\n",
            "  (569, 377)\t4.0\n",
            "  (581, 31374)\t0.5\n",
            "  (595, 2059)\t3.0\n",
            "  (624, 142448)\t3.0\n"
          ]
        }
      ]
    },
    {
      "cell_type": "code",
      "metadata": {
        "colab": {
          "base_uri": "https://localhost:8080/",
          "height": 363
        },
        "id": "3qEUknmNSUT6",
        "outputId": "25548544-3185-43b6-8575-431f53686ed8"
      },
      "source": [
        "# data shuffle, sampling 20s \n",
        "df=users.sample(frac=1).reset_index(drop=True).iloc[:10,:3].sort_values(by='userId')\n",
        "df"
      ],
      "execution_count": null,
      "outputs": [
        {
          "output_type": "execute_result",
          "data": {
            "text/html": [
              "<div>\n",
              "<style scoped>\n",
              "    .dataframe tbody tr th:only-of-type {\n",
              "        vertical-align: middle;\n",
              "    }\n",
              "\n",
              "    .dataframe tbody tr th {\n",
              "        vertical-align: top;\n",
              "    }\n",
              "\n",
              "    .dataframe thead th {\n",
              "        text-align: right;\n",
              "    }\n",
              "</style>\n",
              "<table border=\"1\" class=\"dataframe\">\n",
              "  <thead>\n",
              "    <tr style=\"text-align: right;\">\n",
              "      <th></th>\n",
              "      <th>userId</th>\n",
              "      <th>gender</th>\n",
              "      <th>age</th>\n",
              "    </tr>\n",
              "  </thead>\n",
              "  <tbody>\n",
              "    <tr>\n",
              "      <th>3</th>\n",
              "      <td>13</td>\n",
              "      <td>MAIL</td>\n",
              "      <td>20</td>\n",
              "    </tr>\n",
              "    <tr>\n",
              "      <th>2</th>\n",
              "      <td>93</td>\n",
              "      <td>MAIL</td>\n",
              "      <td>40</td>\n",
              "    </tr>\n",
              "    <tr>\n",
              "      <th>5</th>\n",
              "      <td>132</td>\n",
              "      <td>MAIL</td>\n",
              "      <td>20</td>\n",
              "    </tr>\n",
              "    <tr>\n",
              "      <th>4</th>\n",
              "      <td>237</td>\n",
              "      <td>MAIL</td>\n",
              "      <td>40</td>\n",
              "    </tr>\n",
              "    <tr>\n",
              "      <th>1</th>\n",
              "      <td>396</td>\n",
              "      <td>FEMAIL</td>\n",
              "      <td>50</td>\n",
              "    </tr>\n",
              "    <tr>\n",
              "      <th>9</th>\n",
              "      <td>401</td>\n",
              "      <td>FEMAIL</td>\n",
              "      <td>20</td>\n",
              "    </tr>\n",
              "    <tr>\n",
              "      <th>7</th>\n",
              "      <td>439</td>\n",
              "      <td>FEMAIL</td>\n",
              "      <td>20</td>\n",
              "    </tr>\n",
              "    <tr>\n",
              "      <th>6</th>\n",
              "      <td>648</td>\n",
              "      <td>MAIL</td>\n",
              "      <td>50</td>\n",
              "    </tr>\n",
              "    <tr>\n",
              "      <th>0</th>\n",
              "      <td>661</td>\n",
              "      <td>MAIL</td>\n",
              "      <td>40</td>\n",
              "    </tr>\n",
              "    <tr>\n",
              "      <th>8</th>\n",
              "      <td>664</td>\n",
              "      <td>MAIL</td>\n",
              "      <td>20</td>\n",
              "    </tr>\n",
              "  </tbody>\n",
              "</table>\n",
              "</div>"
            ],
            "text/plain": [
              "   userId  gender  age\n",
              "3      13    MAIL   20\n",
              "2      93    MAIL   40\n",
              "5     132    MAIL   20\n",
              "4     237    MAIL   40\n",
              "1     396  FEMAIL   50\n",
              "9     401  FEMAIL   20\n",
              "7     439  FEMAIL   20\n",
              "6     648    MAIL   50\n",
              "0     661    MAIL   40\n",
              "8     664    MAIL   20"
            ]
          },
          "metadata": {},
          "execution_count": 91
        }
      ]
    },
    {
      "cell_type": "code",
      "metadata": {
        "colab": {
          "base_uri": "https://localhost:8080/"
        },
        "id": "k0ij8W8vX-JP",
        "outputId": "b1fd3e4a-4535-4271-fc55-f54a66e19418"
      },
      "source": [
        "from sklearn.preprocessing import LabelEncoder\n",
        "\n",
        "le = LabelEncoder()\n",
        "df['userId_l'] = le.fit_transform(df['userId'])\n",
        "df['gender_l'] = le.fit_transform(df['gender'])\n",
        "df['age_l'] = le.fit_transform(df['age'])\n",
        "np.c_[df['userId_l'],le.inverse_transform(le.fit_transform(df['userId']))]"
      ],
      "execution_count": null,
      "outputs": [
        {
          "output_type": "execute_result",
          "data": {
            "text/plain": [
              "array([[  0,  13],\n",
              "       [  1,  93],\n",
              "       [  2, 132],\n",
              "       [  3, 237],\n",
              "       [  4, 396],\n",
              "       [  5, 401],\n",
              "       [  6, 439],\n",
              "       [  7, 648],\n",
              "       [  8, 661],\n",
              "       [  9, 664]])"
            ]
          },
          "metadata": {},
          "execution_count": 92
        }
      ]
    },
    {
      "cell_type": "code",
      "metadata": {
        "colab": {
          "base_uri": "https://localhost:8080/",
          "height": 363
        },
        "id": "PY3JC-kHZpgZ",
        "outputId": "4eb4220f-3f24-4349-9b37-e456dc5e191b"
      },
      "source": [
        "df"
      ],
      "execution_count": null,
      "outputs": [
        {
          "output_type": "execute_result",
          "data": {
            "text/html": [
              "<div>\n",
              "<style scoped>\n",
              "    .dataframe tbody tr th:only-of-type {\n",
              "        vertical-align: middle;\n",
              "    }\n",
              "\n",
              "    .dataframe tbody tr th {\n",
              "        vertical-align: top;\n",
              "    }\n",
              "\n",
              "    .dataframe thead th {\n",
              "        text-align: right;\n",
              "    }\n",
              "</style>\n",
              "<table border=\"1\" class=\"dataframe\">\n",
              "  <thead>\n",
              "    <tr style=\"text-align: right;\">\n",
              "      <th></th>\n",
              "      <th>userId</th>\n",
              "      <th>gender</th>\n",
              "      <th>age</th>\n",
              "      <th>userId_l</th>\n",
              "      <th>gender_l</th>\n",
              "      <th>age_l</th>\n",
              "    </tr>\n",
              "  </thead>\n",
              "  <tbody>\n",
              "    <tr>\n",
              "      <th>3</th>\n",
              "      <td>13</td>\n",
              "      <td>MAIL</td>\n",
              "      <td>20</td>\n",
              "      <td>0</td>\n",
              "      <td>1</td>\n",
              "      <td>0</td>\n",
              "    </tr>\n",
              "    <tr>\n",
              "      <th>2</th>\n",
              "      <td>93</td>\n",
              "      <td>MAIL</td>\n",
              "      <td>40</td>\n",
              "      <td>1</td>\n",
              "      <td>1</td>\n",
              "      <td>1</td>\n",
              "    </tr>\n",
              "    <tr>\n",
              "      <th>5</th>\n",
              "      <td>132</td>\n",
              "      <td>MAIL</td>\n",
              "      <td>20</td>\n",
              "      <td>2</td>\n",
              "      <td>1</td>\n",
              "      <td>0</td>\n",
              "    </tr>\n",
              "    <tr>\n",
              "      <th>4</th>\n",
              "      <td>237</td>\n",
              "      <td>MAIL</td>\n",
              "      <td>40</td>\n",
              "      <td>3</td>\n",
              "      <td>1</td>\n",
              "      <td>1</td>\n",
              "    </tr>\n",
              "    <tr>\n",
              "      <th>1</th>\n",
              "      <td>396</td>\n",
              "      <td>FEMAIL</td>\n",
              "      <td>50</td>\n",
              "      <td>4</td>\n",
              "      <td>0</td>\n",
              "      <td>2</td>\n",
              "    </tr>\n",
              "    <tr>\n",
              "      <th>9</th>\n",
              "      <td>401</td>\n",
              "      <td>FEMAIL</td>\n",
              "      <td>20</td>\n",
              "      <td>5</td>\n",
              "      <td>0</td>\n",
              "      <td>0</td>\n",
              "    </tr>\n",
              "    <tr>\n",
              "      <th>7</th>\n",
              "      <td>439</td>\n",
              "      <td>FEMAIL</td>\n",
              "      <td>20</td>\n",
              "      <td>6</td>\n",
              "      <td>0</td>\n",
              "      <td>0</td>\n",
              "    </tr>\n",
              "    <tr>\n",
              "      <th>6</th>\n",
              "      <td>648</td>\n",
              "      <td>MAIL</td>\n",
              "      <td>50</td>\n",
              "      <td>7</td>\n",
              "      <td>1</td>\n",
              "      <td>2</td>\n",
              "    </tr>\n",
              "    <tr>\n",
              "      <th>0</th>\n",
              "      <td>661</td>\n",
              "      <td>MAIL</td>\n",
              "      <td>40</td>\n",
              "      <td>8</td>\n",
              "      <td>1</td>\n",
              "      <td>1</td>\n",
              "    </tr>\n",
              "    <tr>\n",
              "      <th>8</th>\n",
              "      <td>664</td>\n",
              "      <td>MAIL</td>\n",
              "      <td>20</td>\n",
              "      <td>9</td>\n",
              "      <td>1</td>\n",
              "      <td>0</td>\n",
              "    </tr>\n",
              "  </tbody>\n",
              "</table>\n",
              "</div>"
            ],
            "text/plain": [
              "   userId  gender  age  userId_l  gender_l  age_l\n",
              "3      13    MAIL   20         0         1      0\n",
              "2      93    MAIL   40         1         1      1\n",
              "5     132    MAIL   20         2         1      0\n",
              "4     237    MAIL   40         3         1      1\n",
              "1     396  FEMAIL   50         4         0      2\n",
              "9     401  FEMAIL   20         5         0      0\n",
              "7     439  FEMAIL   20         6         0      0\n",
              "6     648    MAIL   50         7         1      2\n",
              "0     661    MAIL   40         8         1      1\n",
              "8     664    MAIL   20         9         1      0"
            ]
          },
          "metadata": {},
          "execution_count": 93
        }
      ]
    },
    {
      "cell_type": "code",
      "metadata": {
        "id": "i4uy9di5a5E4"
      },
      "source": [
        "df_matrix = df.pivot( index='userId_l',\n",
        "                      columns='movieId',\n",
        "                      values='rating').fillna(0)"
      ],
      "execution_count": null,
      "outputs": []
    },
    {
      "cell_type": "markdown",
      "metadata": {
        "id": "a9zEl0Cbdldt"
      },
      "source": [
        "## Word tokenizing"
      ]
    },
    {
      "cell_type": "code",
      "metadata": {
        "id": "jOWw2f72KYRp"
      },
      "source": [
        "tokenized_text = [['Hope', 'to', 'see', 'you', 'soon'], ['Nice', 'to', 'see', 'you', 'again']]"
      ],
      "execution_count": null,
      "outputs": []
    },
    {
      "cell_type": "code",
      "metadata": {
        "colab": {
          "base_uri": "https://localhost:8080/"
        },
        "id": "cDxBcLFOKYrm",
        "outputId": "10b63dc2-2add-45d7-fb75-8774b741cbc1"
      },
      "source": [
        "le = LabelEncoder()\n",
        "le_tmp=le.fit_transform(np.r_[tokenized_text[0],tokenized_text[1]])\n",
        "le_tmp"
      ],
      "execution_count": null,
      "outputs": [
        {
          "output_type": "execute_result",
          "data": {
            "text/plain": [
              "array([0, 5, 3, 6, 4, 1, 5, 3, 6, 2])"
            ]
          },
          "metadata": {},
          "execution_count": 232
        }
      ]
    },
    {
      "cell_type": "code",
      "metadata": {
        "id": "STJypS42Kgwz"
      },
      "source": [
        "le_text = [le_tmp[:len(tokenized_text[0])].tolist(),le_tmp[-len(tokenized_text[1]):].tolist()]"
      ],
      "execution_count": null,
      "outputs": []
    },
    {
      "cell_type": "code",
      "metadata": {
        "colab": {
          "base_uri": "https://localhost:8080/"
        },
        "id": "Z0H4Qeh7Uh0Q",
        "outputId": "23875a8d-13e6-4742-dfa0-bbedaa612200"
      },
      "source": [
        "le_text = [le_tmp[:5].tolist(), le_tmp[5:].tolist()]\n",
        "le_text"
      ],
      "execution_count": null,
      "outputs": [
        {
          "output_type": "execute_result",
          "data": {
            "text/plain": [
              "[[0, 5, 3, 6, 4], [1, 5, 3, 6, 2]]"
            ]
          },
          "metadata": {},
          "execution_count": 233
        }
      ]
    },
    {
      "cell_type": "code",
      "metadata": {
        "colab": {
          "base_uri": "https://localhost:8080/"
        },
        "id": "8YryneYmT42Q",
        "outputId": "3f7fd70f-b1ab-4561-be3d-71fcb3afd2ef"
      },
      "source": [
        "le_embedding = Embedding(input_dim=7, output_dim=2)\n",
        "le_embedding(np.array(le_text))"
      ],
      "execution_count": null,
      "outputs": [
        {
          "output_type": "execute_result",
          "data": {
            "text/plain": [
              "<tf.Tensor: shape=(2, 5, 2), dtype=float32, numpy=\n",
              "array([[[-0.03124826, -0.01618547],\n",
              "        [-0.00946225, -0.04395205],\n",
              "        [ 0.00861239,  0.03872142],\n",
              "        [-0.02144307,  0.01548406],\n",
              "        [ 0.04849822, -0.02543857]],\n",
              "\n",
              "       [[ 0.04483184,  0.01845212],\n",
              "        [-0.00946225, -0.04395205],\n",
              "        [ 0.00861239,  0.03872142],\n",
              "        [-0.02144307,  0.01548406],\n",
              "        [ 0.03288463, -0.0261355 ]]], dtype=float32)>"
            ]
          },
          "metadata": {},
          "execution_count": 234
        }
      ]
    },
    {
      "cell_type": "code",
      "metadata": {
        "colab": {
          "base_uri": "https://localhost:8080/"
        },
        "id": "eIV3IUdbMfnf",
        "outputId": "187f2575-271c-4988-9f73-34ee31291058"
      },
      "source": [
        "le.inverse_transform(le_token)"
      ],
      "execution_count": null,
      "outputs": [
        {
          "output_type": "execute_result",
          "data": {
            "text/plain": [
              "array(['Hope', 'to', 'see', 'you', 'soon', 'Nice', 'to', 'see', 'you',\n",
              "       'again'], dtype='<U5')"
            ]
          },
          "metadata": {},
          "execution_count": 220
        }
      ]
    },
    {
      "cell_type": "code",
      "metadata": {
        "id": "OD9dIBO0UTYj"
      },
      "source": [
        ""
      ],
      "execution_count": null,
      "outputs": []
    }
  ]
}